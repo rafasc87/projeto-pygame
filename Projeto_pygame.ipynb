###Importa bibliotecas

from time import sleep

import emoji

from random import randrange

###Input do jogador >>> Nome para placar

nome_jogador = input(emoji.emojize("E AÍ BORA JOGAR JOKENPÔ >>>> :oncoming_fist::raised_hand::victory_hand:!!"+" >>>> Qual seu nome: "))
print('\n')

###Cria variáveis para ajudar as condicionais e o loop

opção = 0
rodada = 0
placar_opção = 0
placar_computador = 0
placar_empate = 0
placar_total = 0

###Loop para validar a escolha do jogador, atualizar o status da rodada e o placar

while opção != 4 and placar_total<5:
    
    computador = randrange(1,3)
    rodada+=1
    placar_total = (placar_opção+placar_computador)
    
    
    print(emoji.emojize(f'Rodada {rodada} {" "*62}  Placar da rodada >>>>  :smiling_face_with_sunglasses: {nome_jogador} {placar_opção} X {placar_computador} PYTHON :snake:'))
    print('=-='*40)
    
    
    if placar_total<5:
        
        opção = int(input(">>>>>>  Qual sua escolha: "))
        print('\n')

        print(emoji.emojize('''    Suas opções: 
        [1] Pedra: :oncoming_fist:
        [2] Papel :raised_hand:
        [3] Tesoura :victory_hand:
        [4] Sair do jogo'''))
        
        print('\n')
    
        if opção == 1 and computador ==2:
            placar_computador+=1
            print(emoji.emojize('\033[1m'+"Você escolheu Pedra :oncoming_fist:, contra Papel :raised_hand: você perdeu!!"+'\033[0m'))        

        elif opção == 2 and computador ==1:
            placar_opção+=1
            print(emoji.emojize('\033[1m'+"Você escolheu Papel :raised_hand:, contra Pedra :oncoming_fist: você ganhou!!"+'\033[0m'))

        elif opção == 1 and computador ==3:
            placar_opção+=1
            print(emoji.emojize('\033[1m'+"Você escolheu Pedra :oncoming_fist:, contra Tesoura :victory_hand: você ganhou!!"+'\033[0m'))

        elif opção == 3 and computador ==1:
            placar_computador+=1
            print(emoji.emojize('\033[1m'+"Você escolheu Tesoura :victory_hand:, contra Pedra :oncoming_fist: você perdeu!!"+'\033[0m'))

        elif opção == 3 and computador ==2:
            placar_opção+=1
            print(emoji.emojize('\033[1m'+"Você escolheu Tesoura :victory_hand:, contra Papel :raised_hand: você ganhou!!"+'\033[0m'))

        elif opção == 2 and computador ==3:
            placar_computador+=1
            print(emoji.emojize('\033[1m'+"Você escolheu Papel :raised_hand:, contra Tesoura :victory_hand: você perdeu!!"+'\033[0m'))

        elif opção == 1 and computador ==1:
            placar_empate+=1
            print(emoji.emojize('\033[1m'+"Você escolheu Pedra :oncoming_fist:, contra Pedra :oncoming_fist: o jogo empatou, vamos outra vez!!"+'\033[0m'))

        elif opção == 2 and computador ==2:
            placar_empate+=1
            print(emoji.emojize('\033[1m'+"Você escolheu Papel :raised_hand:, contra Papel :raised_hand: o jogo empatou, vamos outra vez!!"+'\033[0m'))

        elif opção == 3 and computador ==3:
            placar_empate+=1
            print(emoji.emojize('\033[1m'+"Você escolheu Tesoura :victory_hand:, contra Tesoura :victory_hand: o jogo empatou, vamos outra vez!!"+'\033[0m'))

        elif opção == 4:
            print(emoji.emojize('Fim do jogo, volta aí depois!!:waving_hand:'))

        elif opção == '':
            print("Opção inválida. Tente novamente.")
        else:
            print("Opção inválida. Tente novamente.")
        print('=-='*40)

        #print(emoji.emojize('Fim do jogo, volta aí depois!!:waving_hand:'))
        
        sleep(4)
    else:
        print("O jogo acabou")

